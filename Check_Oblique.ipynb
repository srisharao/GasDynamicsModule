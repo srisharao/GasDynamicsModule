{
 "cells": [
  {
   "cell_type": "code",
   "execution_count": 2,
   "metadata": {},
   "outputs": [
    {
     "data": {
      "application/vnd.jupyter.widget-view+json": {
       "model_id": "e58725c0eacd41ed91ad75aba1d71d97",
       "version_major": 2,
       "version_minor": 0
      },
      "text/plain": [
       "Canvas(toolbar=Toolbar(toolitems=[('Home', 'Reset original view', 'home', 'home'), ('Back', 'Back to previous …"
      ]
     },
     "metadata": {},
     "output_type": "display_data"
    },
    {
     "data": {
      "text/plain": [
       "<function matplotlib.pyplot.show(block=None)>"
      ]
     },
     "execution_count": 2,
     "metadata": {},
     "output_type": "execute_result"
    }
   ],
   "source": [
    "from GasDynamics import *\n",
    "import numpy as np\n",
    "import matplotlib\n",
    "matplotlib.rcParams['text.usetex'] = True\n",
    "import matplotlib.pyplot as plt\n",
    "M=np.arange(1.01,4,0.01)\n",
    "Bmax=np.empty_like(M)\n",
    "thmax=np.empty_like(M)\n",
    "Bs=np.empty_like(M)\n",
    "ths=np.empty_like(M)\n",
    "for i in range(0,len(M)):\n",
    "    Bmax[i]=OSBmax(M[i])\n",
    "    thmax[i]=OSthmax(M[i])\n",
    "    Bs[i]=OSBs(M[i])\n",
    "    ths[i]=OSths(M[i])\n",
    "    pass\n",
    "%matplotlib widget\n",
    "plt.figure\n",
    "plt.plot(M,Bmax,M,thmax,M,Bs,M,ths)\n",
    "plt.legend(['Bmax','thmax','Bs','ths'])\n",
    "plt.show"
   ]
  },
  {
   "cell_type": "code",
   "execution_count": 6,
   "metadata": {},
   "outputs": [
    {
     "data": {
      "text/plain": [
       "<function matplotlib.pyplot.show(close=None, block=None)>"
      ]
     },
     "execution_count": 6,
     "metadata": {},
     "output_type": "execute_result"
    },
    {
     "data": {
      "image/png": "[encoded data removed]",
      "text/plain": [
       "<Figure size 432x288 with 1 Axes>"
      ]
     },
     "metadata": {
      "needs_background": "light"
     },
     "output_type": "display_data"
    }
   ],
   "source": [
    "import math\n",
    "plt.figure\n",
    "plt.plot(M,(thmax-ths)*180/math.pi)\n",
    "plt.show"
   ]
  },
  {
   "cell_type": "code",
   "execution_count": 2,
   "metadata": {},
   "outputs": [
    {
     "name": "stdout",
     "output_type": "stream",
     "text": [
      "[64.66897983 22.97353176 61.48537164 22.70598675] [2.000000000010207, 1] [2.0000000000000018, 1] [1.9999999999998253, 1] [2.0000000000000018, 1]\n"
     ]
    }
   ],
   "source": [
    "from GasDynamics import *\n",
    "M_sp=2.0\n",
    "Bmax_sp=OSBmax(M_sp)\n",
    "thmax_sp=OSthmax(M_sp)\n",
    "Bs_sp=OSBs(M_sp)\n",
    "ths_sp=OSths(M_sp)\n",
    "M_sp1=InvOSBmax(Bmax_sp)\n",
    "M_sp2=InvOSthmax(thmax_sp)\n",
    "M_sp3=InvOSBs(Bs_sp)\n",
    "M_sp4=InvOSths(ths_sp)\n",
    "print(np.array([Bmax_sp,thmax_sp,Bs_sp,ths_sp])*180/math.pi,M_sp1,M_sp2,M_sp3,M_sp4)"
   ]
  },
  {
   "cell_type": "code",
   "execution_count": 1,
   "metadata": {},
   "outputs": [
    {
     "name": "stdout",
     "output_type": "stream",
     "text": [
      "[39.31393184 83.70008038 57.29577951]\n",
      "2.0000000000021325\n"
     ]
    }
   ],
   "source": [
    "from GasDynamics import *\n",
    "import math\n",
    "M=2.0\n",
    "th=10*math.pi/180\n",
    "B=OSMthB(M,th)\n",
    "print(np.array(B)*180/math.pi)\n",
    "M_1=OSthBM(th,B[0])\n",
    "print(M_1)"
   ]
  },
  {
   "cell_type": "code",
   "execution_count": 1,
   "metadata": {},
   "outputs": [
    {
     "name": "stdout",
     "output_type": "stream",
     "text": [
      "[2.0, 1.6405222290045585, 1.7065786039966002, 1.1701512842951467, 1.458425612910878, 0.9846440225036039, 0.01547510160371324, 0.17453292519943295, 0.6861575525959873]\n",
      "[2.0, 0.6036976431059282, 4.443807205924399, 1.6777113373268664, 2.6487317019653767, 0.7265154780959225, 0.31949549118027254, 0.17453292519943295, 1.4608419867422096]\n"
     ]
    }
   ],
   "source": [
    "from GasDynamics import *\n",
    "import math\n",
    "M=2.0\n",
    "th=10*math.pi/180\n",
    "out=OSMthweak(M,th)\n",
    "print(out)\n",
    "out1=OSMthstrong(M,th)\n",
    "print(out1)"
   ]
  },
  {
   "cell_type": "code",
   "execution_count": 1,
   "metadata": {},
   "outputs": [
    {
     "name": "stdout",
     "output_type": "stream",
     "text": [
      "[2.0, 1.6403388422947893, 1.7070087265737977, 1.1702428285696014, 1.4586790748893461, 0.9846225593861887, 0.01549689968591651, 0.17461924908479037, 0.6862515657199887]\n"
     ]
    }
   ],
   "source": [
    "from GasDynamics import *\n",
    "import math\n",
    "M=2.0\n",
    "B=39.3193184*math.pi/180\n",
    "out=OSMB(M,B)\n",
    "print(out)"
   ]
  },
  {
   "cell_type": "code",
   "execution_count": 1,
   "metadata": {},
   "outputs": [
    {
     "name": "stdout",
     "output_type": "stream",
     "text": [
      "[2.0, 1.6405222290025447, 1.7065786039966002, 1.1701512842951467, 1.458425612910878, 0.9846440225036039, 0.01547510160371324, 0.1745329251987438, 0.6861575525959873]\n"
     ]
    }
   ],
   "source": [
    "from GasDynamics import *\n",
    "import math\n",
    "M=2.0\n",
    "P2P1=1.7065786039966002\n",
    "out=OSMP2P1(M,P2P1)\n",
    "print(out)"
   ]
  },
  {
   "cell_type": "code",
   "execution_count": 2,
   "metadata": {},
   "outputs": [
    {
     "data": {
      "text/plain": [
       "1.1177631006661"
      ]
     },
     "execution_count": 2,
     "metadata": {},
     "output_type": "execute_result"
    }
   ],
   "source": [
    "NSP2P1(1.0492567848581884)"
   ]
  },
  {
   "cell_type": "code",
   "execution_count": 1,
   "metadata": {},
   "outputs": [
    {
     "name": "stdout",
     "output_type": "stream",
     "text": [
      "[4.3604574514827386, 6.691681999959625, 1.7065786039966002, 1.1701512842951467, 1.458425612910878, 0.9846440225036039, 0.01547510160371324, 0.17453292519943295, 0.2948512269184965]\n"
     ]
    }
   ],
   "source": [
    "from GasDynamics import *\n",
    "import math\n",
    "P2P1=1.7065786039966002\n",
    "th=10*math.pi/180\n",
    "out=OSP2P1th(P2P1,th)\n",
    "print(out)\n"
   ]
  },
  {
   "cell_type": "code",
   "execution_count": 19,
   "metadata": {},
   "outputs": [
    {
     "name": "stdout",
     "output_type": "stream",
     "text": [
      "[6 5 4 3 2 1]\n"
     ]
    }
   ],
   "source": [
    "import numpy as np\n",
    "a=np.array([1,2,3])\n",
    "b=np.array([4,5,6])\n",
    "c=np.hstack((a,b))\n",
    "print(np.flipud(c))"
   ]
  },
  {
   "cell_type": "code",
   "execution_count": 20,
   "metadata": {},
   "outputs": [
    {
     "name": "stdout",
     "output_type": "stream",
     "text": [
      "[ 6  7  8  9 10 11]\n"
     ]
    }
   ],
   "source": [
    "print(c+5)"
   ]
  },
  {
   "cell_type": "code",
   "execution_count": null,
   "metadata": {},
   "outputs": [],
   "source": []
  }
 ],
 "metadata": {
  "kernelspec": {
   "display_name": "Python 3",
   "language": "python",
   "name": "python3"
  },
  "language_info": {
   "codemirror_mode": {
    "name": "ipython",
    "version": 3
   },
   "file_extension": ".py",
   "mimetype": "text/x-python",
   "name": "python",
   "nbconvert_exporter": "python",
   "pygments_lexer": "ipython3",
   "version": "3.7.8"
  }
 },
 "nbformat": 4,
 "nbformat_minor": 4
}
