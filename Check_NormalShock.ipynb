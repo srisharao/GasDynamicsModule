{
 "cells": [
  {
   "cell_type": "code",
   "execution_count": 1,
   "metadata": {},
   "outputs": [
    {
     "name": "stdout",
     "output_type": "stream",
     "text": [
      "0.5773502691896257\n",
      "2.0\n",
      "4.5\n",
      "2.0\n",
      "1.6874999999999998\n",
      "[1.9999999999999976, 1]\n",
      "0.7208738614847453\n",
      "[1.999999999999787, 1]\n",
      "0.32729110639964343\n",
      "[1.999999999999787, 1]\n"
     ]
    }
   ],
   "source": [
    "from GasDynamics import *\n",
    "M1=2.0\n",
    "M2=NSM2M1(M1)\n",
    "print(M2)\n",
    "M1_1=NSM1M2(M2)\n",
    "print(M1_1)\n",
    "P2P1=NSP2P1(M1)\n",
    "print(P2P1)\n",
    "M1_2=InvNSP2P1(P2P1)\n",
    "print(M1_2)\n",
    "T2T1=NST2T1(M1)\n",
    "print(T2T1)\n",
    "M1_3=InvNST2T1(T2T1)\n",
    "print(M1_3)\n",
    "P02P01=NSP02P01(M1)\n",
    "print(P02P01)\n",
    "M1_4=InvNSP02P01(P02P01)\n",
    "print(M1_4)\n",
    "P02P1=NSP02P1(M1)\n",
    "M1_5=InvNSP02P1(P02P1)\n",
    "dSR=NSdSbyR(M1)\n",
    "print(dSR)\n",
    "M1_6=InvNSdSbyR(dSR)\n",
    "print(M1_6)"
   ]
  },
  {
   "cell_type": "code",
   "execution_count": null,
   "metadata": {},
   "outputs": [],
   "source": []
  }
 ],
 "metadata": {
  "kernelspec": {
   "display_name": "Python 3",
   "language": "python",
   "name": "python3"
  },
  "language_info": {
   "codemirror_mode": {
    "name": "ipython",
    "version": 3
   },
   "file_extension": ".py",
   "mimetype": "text/x-python",
   "name": "python",
   "nbconvert_exporter": "python",
   "pygments_lexer": "ipython3",
   "version": "3.7.8"
  }
 },
 "nbformat": 4,
 "nbformat_minor": 4
}
