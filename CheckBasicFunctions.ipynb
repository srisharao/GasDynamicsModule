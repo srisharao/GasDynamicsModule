{
 "cells": [
  {
   "cell_type": "code",
   "execution_count": 1,
   "metadata": {},
   "outputs": [
    {
     "name": "stdout",
     "output_type": "stream",
     "text": [
      "347.18870949384285\n",
      "347.18870949384285\n",
      "347.18870949384285\n",
      "Help on function soundspeedT in module GasDynamics.CPG.basicFunctions.soundspeedT:\n",
      "\n",
      "soundspeedT(T, R=287, k=1.4)\n",
      "    Gasdynamics Module\n",
      "    Location: CPG\\basicFunctions\n",
      "    Function: soundspeedT(T,R,k)\n",
      "    Variables:\n",
      "        T - Temperature [K]\n",
      "        R - Gas constant [J/(kgK)], default value 287 J/(kgK) for air\n",
      "        k - ratio of specific heats gamma=Cp/Cv, default value k=1.4 for diatomic gases\n",
      "        a - speed of sound [m/s]\n",
      "    Abbreviations:\n",
      "        PG - Perfect Gas\n",
      "        CPG - Calorically Perfect Gas\n",
      "        TPG - Thermally Perfect Gas\n",
      "    Inputs: T,R,k\n",
      "    Outputs: a (sound speed)\n",
      "    Explanantion: Calculates the speed of sound in a perfect gas given the Temperature, Gas constant and gamma\n",
      "    Usage:\n",
      "        a=soundspeedT(T) # Calculates the sound speed in PG air at the given Temperature\n",
      "        a=soundspeedT(T,R) # Calculates the sound speed in a diatomic PG gas given T and R\n",
      "        a=soundspeedT(T,R,k) # Calculates the sound speed in a Perfect gas geven, T,R, and k\n",
      "    ###\n",
      "    ver 0\n",
      "    August 2020\n",
      "    ###\n",
      "    Credits:\n",
      "    Srisha Rao M V\n",
      "\n"
     ]
    }
   ],
   "source": [
    "from GasDynamics import *\n",
    "R=287\n",
    "k=1.4\n",
    "T=300\n",
    "print(soundspeedT(T))\n",
    "print(soundspeedT(T,R))\n",
    "print(soundspeedT(T,R,k))\n",
    "help(soundspeedT)"
   ]
  },
  {
   "cell_type": "code",
   "execution_count": 1,
   "metadata": {},
   "outputs": [
    {
     "name": "stdout",
     "output_type": "stream",
     "text": [
      "347.18870949384285\n"
     ]
    }
   ],
   "source": [
    "from GasDynamics import *\n",
    "P=1e5\n",
    "T=300\n",
    "R=287\n",
    "k=1.4\n",
    "rho=P/(R*T)\n",
    "print(soundspeedPrho(P,rho))"
   ]
  },
  {
   "cell_type": "code",
   "execution_count": 1,
   "metadata": {},
   "outputs": [
    {
     "name": "stdout",
     "output_type": "stream",
     "text": [
      "300.00000000000006\n"
     ]
    }
   ],
   "source": [
    "from GasDynamics import *\n",
    "T=300\n",
    "print(Tgivena(soundspeedT(T)))"
   ]
  },
  {
   "cell_type": "code",
   "execution_count": 1,
   "metadata": {},
   "outputs": [
    {
     "name": "stdout",
     "output_type": "stream",
     "text": [
      "1.7281667968832397 600.0 347.18870949384285\n"
     ]
    }
   ],
   "source": [
    "from GasDynamics import *\n",
    "T=300\n",
    "V=600\n",
    "a=soundspeedT(T)\n",
    "M=machnumber(V,a)\n",
    "V_1=VgivenM(M,a)\n",
    "a_1=agivenM(M,V)\n",
    "print(M,V_1,a_1)"
   ]
  },
  {
   "cell_type": "code",
   "execution_count": 1,
   "metadata": {},
   "outputs": [
    {
     "name": "stdout",
     "output_type": "stream",
     "text": [
      "30.000000000000004\n",
      "error: flow should be supersonic M>1\n",
      "2.0\n"
     ]
    }
   ],
   "source": [
    "from GasDynamics import *\n",
    "M=2\n",
    "M_1=0.5\n",
    "print(machangle(M)*180/math.pi)\n",
    "machangle(M_1)\n",
    "print(Mgivenmu(machangle(M)))\n"
   ]
  },
  {
   "cell_type": "code",
   "execution_count": null,
   "metadata": {},
   "outputs": [],
   "source": []
  }
 ],
 "metadata": {
  "kernelspec": {
   "display_name": "Python 3",
   "language": "python",
   "name": "python3"
  },
  "language_info": {
   "codemirror_mode": {
    "name": "ipython",
    "version": 3
   },
   "file_extension": ".py",
   "mimetype": "text/x-python",
   "name": "python",
   "nbconvert_exporter": "python",
   "pygments_lexer": "ipython3",
   "version": "3.7.8"
  }
 },
 "nbformat": 4,
 "nbformat_minor": 4
}
