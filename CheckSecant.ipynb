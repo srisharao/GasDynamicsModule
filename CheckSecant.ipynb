{
 "cells": [
  {
   "cell_type": "markdown",
   "metadata": {},
   "source": [
    "# How to use the notebook effectively\n",
    "## Example use of the secant method\n",
    "Take the function $tan(x)=x$, find the soultion for x. <br>\n",
    "The secant method is located in the GasDynamics/ZeroFInder/secant <br>\n",
    "first a residual function is written and then the secant method is applied <br>\n",
    "First let us check if the help works well <br><br>\n",
    "The cell below is a line of python code, notice on the top bar that it has been mentioned as code, the current cell is marked as Markdown\n",
    "cells containing code can be evaluated by pressing Shift+enter or pressing the run button on the top.\n",
    "Outputs from the code will be printed below the cell."
   ]
  },
  {
   "cell_type": "code",
   "execution_count": 1,
   "metadata": {},
   "outputs": [
    {
     "name": "stdout",
     "output_type": "stream",
     "text": [
      "Help on function secant in module GasDynamics.ZeroFinder.secant:\n",
      "\n",
      "secant(funcname, maxmin, *arglist, **keyop)\n",
      "    The secant function uses the secant method to evaluate the zero of a generic function.\n",
      "    \n",
      "    Explanation:\n",
      "    The secant method is a modification of the newton-raphsons method to find the zeros of a function.\n",
      "    The update formula for the secant method can be written as\n",
      "    x_3=x_1-y_1*(x_2-x_1)/(y_2-y_1).\n",
      "    The secant method requires two initial guess values to progress the iterations.\n",
      "    At each iteration the set of values (x,y) are updated such that y_3 approaches zero.\n",
      "    Details of the method can be inferred from the code below and is described in textbooks on numerical methods\n",
      "    \n",
      "    #################\n",
      "    Use of the code:\n",
      "    Inputs : (funcname) the function name, (maxmin) the upper and lower initial estimates passed in as a list, \n",
      "    other arguments of the function passed in as variable arguments.\n",
      "    outputs: Solution and the flag (1 if solution is achieved, 0 otherwise)\n",
      "    \n",
      "    [x,flag]=secant(funcname,[x_init_nax x_init_min],[other variables required for the function])\n",
      "    \n",
      "    #########\n",
      "    \n",
      "    Example:\n",
      "    \n",
      "    Solve the equation tan(x)=x\n",
      "    First define a residual function that goes to zero as the solution approaches.\n",
      "    def residual_func(x):\n",
      "        res=math.tan(x)-x\n",
      "        return x\n",
      "    Then use the secant function on the residual function.\n",
      "    [x,flag]=secant(residual_func,[math.pi/6,math.pi/3])\n",
      "    \n",
      "    ####\n",
      "    \n",
      "    Credits:\n",
      "    Srisha Rao M V, August 2020\n",
      "    \n",
      "    ###\n",
      "    ver 0\n",
      "\n"
     ]
    }
   ],
   "source": [
    "from GasDynamics import *\n",
    "help(secant)"
   ]
  },
  {
   "cell_type": "code",
   "execution_count": 2,
   "metadata": {},
   "outputs": [],
   "source": [
    "import math\n",
    "def residualfunc(x):\n",
    "    res = math.tan(x)-x\n",
    "    return res"
   ]
  },
  {
   "cell_type": "code",
   "execution_count": 6,
   "metadata": {},
   "outputs": [
    {
     "name": "stdout",
     "output_type": "stream",
     "text": [
      "Function has no converged solution in maximum number of iterations\n",
      "0\n"
     ]
    }
   ],
   "source": [
    "[x,flag]=secant(residualfunc,[math.pi/6,math.pi/3],tol=1e-10,Max_iter=10)\n",
    "print(x)\n"
   ]
  },
  {
   "cell_type": "markdown",
   "metadata": {},
   "source": [
    "This method is a convinient way to look at all the codes that you develop. So please use Jupyter notebooks effectively."
   ]
  },
  {
   "cell_type": "code",
   "execution_count": null,
   "metadata": {},
   "outputs": [],
   "source": []
  }
 ],
 "metadata": {
  "kernelspec": {
   "display_name": "Python 3",
   "language": "python",
   "name": "python3"
  },
  "language_info": {
   "codemirror_mode": {
    "name": "ipython",
    "version": 3
   },
   "file_extension": ".py",
   "mimetype": "text/x-python",
   "name": "python",
   "nbconvert_exporter": "python",
   "pygments_lexer": "ipython3",
   "version": "3.7.8"
  }
 },
 "nbformat": 4,
 "nbformat_minor": 4
}
